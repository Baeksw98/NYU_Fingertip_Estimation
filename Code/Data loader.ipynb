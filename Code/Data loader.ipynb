{
 "cells": [
  {
   "cell_type": "code",
   "execution_count": 1,
   "id": "1c671200-02d5-4a28-8f63-a1f764316279",
   "metadata": {},
   "outputs": [],
   "source": [
    "import os\n",
    "import numpy as np\n",
    "import pickle as pkl\n",
    "import torch\n",
    "from torchvision.utils import save_image"
   ]
  },
  {
   "cell_type": "code",
   "execution_count": 2,
   "id": "064a493f-189d-4b10-8b0f-e93f39dac4c4",
   "metadata": {},
   "outputs": [],
   "source": [
    "trainx = torch.load('train/train/trainX.pt')\n",
    "trainy = torch.load('train/train/trainY.pt')\n",
    "testx = torch.load('test/test/testX.pt')"
   ]
  },
  {
   "cell_type": "code",
   "execution_count": 3,
   "id": "e8e3f8fa-d98b-4486-9824-9ae185bbdf2c",
   "metadata": {},
   "outputs": [],
   "source": [
    "num_train = trainx[0].shape[0]\n",
    "num_test = testx[0].shape[0]\n",
    "\n",
    "os.makedirs('./lazydata', exist_ok=True)"
   ]
  },
  {
   "cell_type": "code",
   "execution_count": 4,
   "id": "45860dcb-d5c7-435b-9bb3-40c79385ef96",
   "metadata": {},
   "outputs": [
    {
     "name": "stdout",
     "output_type": "stream",
     "text": [
      "Saved train data\n"
     ]
    }
   ],
   "source": [
    "# Save train data\n",
    "os.makedirs('./lazydata/train', exist_ok=True)\n",
    "os.makedirs('./lazydata/train/X', exist_ok=True)\n",
    "os.makedirs('./lazydata/train/Y', exist_ok=True)\n",
    "for i in range(num_train):\n",
    "    os.makedirs('./lazydata/train/X/{}'.format(i), exist_ok=True)\n",
    "    # rgb\n",
    "    os.makedirs('./lazydata/train/X/{}/rgb'.format(i), exist_ok=True)\n",
    "    for j in range(3):\n",
    "        save_image(trainx[0][i][j]/255, './lazydata/train/X/{}/rgb/{}.png'.format(i, j))\n",
    "    # depth\n",
    "    depth = trainx[1][i].numpy()\n",
    "    np.save('./lazydata/train/X/{}/depth.npy'.format(i), depth)\n",
    "    # field id\n",
    "    pkl.dump(trainx[2][i], open('./lazydata/train/X/{}/field_id.pkl'.format(i), 'wb'))\n",
    "\n",
    "    y = trainy[0][i].numpy()\n",
    "    np.save('./lazydata/train/Y/{}.npy'.format(i), y)\n",
    "print(\"Saved train data\")"
   ]
  },
  {
   "cell_type": "code",
   "execution_count": 5,
   "id": "a2de4d63-4dfe-49f1-8bfa-6f4f14ba4ba2",
   "metadata": {},
   "outputs": [
    {
     "name": "stdout",
     "output_type": "stream",
     "text": [
      "Saved test data\n"
     ]
    }
   ],
   "source": [
    "# Save test data\n",
    "os.makedirs('./lazydata/test', exist_ok=True)\n",
    "os.makedirs('./lazydata/test/X', exist_ok=True)\n",
    "for i in range(num_test):\n",
    "    os.makedirs('./lazydata/test/X/{}'.format(i), exist_ok=True)\n",
    "    # rgb\n",
    "    os.makedirs('./lazydata/test/X/{}/rgb'.format(i), exist_ok=True)\n",
    "    for j in range(3):\n",
    "        save_image(testx[0][i][j]/255, './lazydata/test/X/{}/rgb/{}.png'.format(i, j))\n",
    "    # depth\n",
    "    depth = testx[1][i].numpy()\n",
    "    np.save('./lazydata/test/X/{}/depth.npy'.format(i), depth)\n",
    "    # field id\n",
    "    pkl.dump(testx[2][i], open('./lazydata/test/X/{}/field_id.pkl'.format(i), 'wb'))\n",
    "\n",
    "print(\"Saved test data\")"
   ]
  },
  {
   "cell_type": "code",
   "execution_count": null,
   "id": "20a74a20-5fe5-4abe-9ac0-25b8263b4bf9",
   "metadata": {},
   "outputs": [],
   "source": []
  }
 ],
 "metadata": {
  "kernelspec": {
   "display_name": "Python 3 (ipykernel)",
   "language": "python",
   "name": "python3"
  },
  "language_info": {
   "codemirror_mode": {
    "name": "ipython",
    "version": 3
   },
   "file_extension": ".py",
   "mimetype": "text/x-python",
   "name": "python",
   "nbconvert_exporter": "python",
   "pygments_lexer": "ipython3",
   "version": "3.8.15"
  }
 },
 "nbformat": 4,
 "nbformat_minor": 5
}
